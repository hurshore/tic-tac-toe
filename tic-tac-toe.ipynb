{
 "cells": [
  {
   "cell_type": "code",
   "execution_count": 1,
   "metadata": {},
   "outputs": [],
   "source": [
    "from IPython.display import clear_output\n",
    "\n",
    "def display_board(board):\n",
    "    clear_output()\n",
    "    print(board[1], '|', board[2], '|', board[3])\n",
    "    print('----------')\n",
    "    print(board[4], '|', board[5], '|', board[6])\n",
    "    print('----------')\n",
    "    print(board[7], '|', board[8], '|', board[9])\n",
    "    pass"
   ]
  },
  {
   "cell_type": "code",
   "execution_count": 2,
   "metadata": {},
   "outputs": [],
   "source": [
    "def player_input():\n",
    "    while True:\n",
    "        marker = input('Player 1 choose between X or O: ').upper()\n",
    "        if marker == 'X':\n",
    "            return ('X', 'O')\n",
    "        elif marker == 'O':\n",
    "            return ('O', 'X')"
   ]
  },
  {
   "cell_type": "code",
   "execution_count": 3,
   "metadata": {},
   "outputs": [],
   "source": [
    "def place_marker(board, marker, position):\n",
    "    board[position] = marker\n",
    "    return board"
   ]
  },
  {
   "cell_type": "code",
   "execution_count": 4,
   "metadata": {},
   "outputs": [],
   "source": [
    "def win_check(board, mark):\n",
    "    return ((board[1] == board[2] == board[3] == mark) or\n",
    "    (board[4] == board[5] == board[6] == mark) or\n",
    "    (board[7] == board[8] == board[9] == mark) or\n",
    "    (board[1] == board[4] == board[7] == mark) or\n",
    "    (board[2] == board[5] == board[8] == mark) or\n",
    "    (board[3] == board[6] == board[9] == mark) or\n",
    "    (board[1] == board[5] == board[9] == mark) or\n",
    "    (board[3] == board[5] == board[7] == mark))"
   ]
  },
  {
   "cell_type": "code",
   "execution_count": 5,
   "metadata": {},
   "outputs": [],
   "source": [
    "import random\n",
    "\n",
    "def choose_first():\n",
    "    output = ''\n",
    "    num = random.randint(0, 1)\n",
    "    if num == 0:\n",
    "        return 'Player 1'\n",
    "    else:\n",
    "        return 'Player 2'"
   ]
  },
  {
   "cell_type": "code",
   "execution_count": 6,
   "metadata": {},
   "outputs": [],
   "source": [
    "def space_check(board, position):\n",
    "    return board[position] == ' '"
   ]
  },
  {
   "cell_type": "code",
   "execution_count": 7,
   "metadata": {},
   "outputs": [],
   "source": [
    "def full_board_check(board):\n",
    "    for i in range(1, len(board)):\n",
    "        if space_check(board, i):\n",
    "            return False\n",
    "    return True"
   ]
  },
  {
   "cell_type": "code",
   "execution_count": 8,
   "metadata": {},
   "outputs": [],
   "source": [
    "def player_choice(board):\n",
    "    position = 0\n",
    "    \n",
    "    while position not in range(1, 10) or not space_check(board, position):\n",
    "        position = int(input('Enter your next position: '))\n",
    "    return position"
   ]
  },
  {
   "cell_type": "code",
   "execution_count": 9,
   "metadata": {},
   "outputs": [],
   "source": [
    "def replay():\n",
    "    output = ''\n",
    "    \n",
    "    while output not in ['Y', 'N']:\n",
    "        output = input('Do you want to play again? (Y or N): ').upper()\n",
    "    return output == 'Y'"
   ]
  },
  {
   "cell_type": "code",
   "execution_count": 10,
   "metadata": {},
   "outputs": [
    {
     "name": "stdout",
     "output_type": "stream",
     "text": [
      "O | X | O\n",
      "----------\n",
      "X | O | X\n",
      "----------\n",
      "O |   |  \n",
      "Player 2 won!\n",
      "Do you want to play again? (Y or N): n\n"
     ]
    }
   ],
   "source": [
    "print('Welcome to Tic Tac Toe!')\n",
    "\n",
    "while True:\n",
    "    game_board = [' '] * 10\n",
    "    player_1, player_2 = player_input()\n",
    "    turn = choose_first()\n",
    "    print(f'{turn} will go first')\n",
    "    ready = None\n",
    "    game_round = 1\n",
    "    \n",
    "    while ready not in ['Y', 'N']:\n",
    "        ready = input('Are you ready to play? (Y or N): ').upper()\n",
    "    if ready == 'Y':\n",
    "        game_on = True\n",
    "    else:\n",
    "        break\n",
    "    \n",
    "    \n",
    "    while game_on:\n",
    "        display_board(game_board)\n",
    "        if turn == 'Player 1':\n",
    "            position = player_choice(game_board)\n",
    "            place_marker(game_board, player_1, position)\n",
    "            turn = 'Player 2'\n",
    "            if game_round > 4 and win_check(game_board, player_1):\n",
    "                display_board(game_board)\n",
    "                print('Player 1 won!')\n",
    "                game_on = False\n",
    "        else: \n",
    "            position = player_choice(game_board)\n",
    "            place_marker(game_board, player_2, position)\n",
    "            turn = 'Player 1'\n",
    "            if game_round > 4 and win_check(game_board, player_2):\n",
    "                display_board(game_board)\n",
    "                print('Player 2 won!')\n",
    "                game_on = False\n",
    "            \n",
    "        if full_board_check(game_board):\n",
    "            print('A Tie!')\n",
    "            game_on = False\n",
    "            \n",
    "        game_round += 1\n",
    "            \n",
    "    if not replay():\n",
    "        break"
   ]
  }
 ],
 "metadata": {
  "kernelspec": {
   "display_name": "Python 3",
   "language": "python",
   "name": "python3"
  },
  "language_info": {
   "codemirror_mode": {
    "name": "ipython",
    "version": 3
   },
   "file_extension": ".py",
   "mimetype": "text/x-python",
   "name": "python",
   "nbconvert_exporter": "python",
   "pygments_lexer": "ipython3",
   "version": "3.8.3"
  }
 },
 "nbformat": 4,
 "nbformat_minor": 4
}
